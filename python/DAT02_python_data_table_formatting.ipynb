{
 "cells": [
  {
   "cell_type": "code",
   "execution_count": 65,
   "id": "7e8be44b",
   "metadata": {},
   "outputs": [
    {
     "name": "stdout",
     "output_type": "stream",
     "text": [
      "                                       Area_Part  Q1 2017  Q2 2017  Q3 2017  \\\n",
      "0      Nine census metropolitan area composite 4     95.4     97.9    101.9   \n",
      "1                           Halifax, Nova Scotia     98.5     99.4    100.4   \n",
      "2                               Montréal, Quebec     98.4     98.5    100.0   \n",
      "3                                 Québec, Quebec    101.6    100.7     99.2   \n",
      "4  Ottawa-Gatineau, Ontario part, Ontario/Quebec    101.5     99.6    101.3   \n",
      "\n",
      "   Q4 2017  Q1 2018  Q2 2018  Q3 2018  Q4 2018  Q1 2019  ...  Q3 2021  \\\n",
      "0    104.8    103.8    103.4    105.0    107.3    108.4  ...    124.2   \n",
      "1    101.7    102.0    102.2    105.1    108.4    108.7  ...    126.4   \n",
      "2    103.1    101.6    101.9    103.9    104.3    103.3  ...    122.7   \n",
      "3     98.5     98.0     97.4     97.8    100.0     98.3  ...     99.5   \n",
      "4     97.6     98.9    101.5    103.3    103.3    107.4  ...    140.4   \n",
      "\n",
      "   Q4 2021  Q1 2022  Q2 2022  Q3 2022  Q4 2022  Q1 2023  Q2 2023  Q3 2023  \\\n",
      "0    126.3    128.3    128.6    128.4    128.1    128.0    126.8    127.3   \n",
      "1    123.0    119.9    119.9    119.9    119.9    119.9    119.9    120.6   \n",
      "2    122.1    120.9    120.1    119.5    117.9    119.1    115.5    117.0   \n",
      "3     97.7     94.4     94.4     94.4     94.4     94.4     91.1     92.2   \n",
      "4    140.4    139.6    138.4    138.3    138.0    135.8    138.4    143.1   \n",
      "\n",
      "   Q4 2023  \n",
      "0    125.6  \n",
      "1    120.9  \n",
      "2    118.3  \n",
      "3     93.2  \n",
      "4    140.7  \n",
      "\n",
      "[5 rows x 29 columns]\n"
     ]
    }
   ],
   "source": [
    "import pandas as pd\n",
    "#source=https://www150.statcan.gc.ca/t1/tbl1/en/tv.action?pid=1810027301&cubeTimeFrame.startMonth=01&cubeTimeFrame.startYear=2017&cubeTimeFrame.endMonth=10&cubeTimeFrame.endYear=2023&referencePeriods=20170101%2C20231001\n",
    "df = pd.read_csv(\"condominium_price_index_data.csv\")\n",
    "print(df.head())"
   ]
  },
  {
   "cell_type": "code",
   "execution_count": 66,
   "id": "a8ea5db3",
   "metadata": {},
   "outputs": [
    {
     "name": "stdout",
     "output_type": "stream",
     "text": [
      "                                       Area_Part Date_Quarter  Price_Index\n",
      "0      Nine census metropolitan area composite 4      Q1 2017         95.4\n",
      "1                           Halifax, Nova Scotia      Q1 2017         98.5\n",
      "2                               Montréal, Quebec      Q1 2017         98.4\n",
      "3                                 Québec, Quebec      Q1 2017        101.6\n",
      "4  Ottawa-Gatineau, Ontario part, Ontario/Quebec      Q1 2017        101.5\n"
     ]
    }
   ],
   "source": [
    "#Created a column for Date quarters and price indexes\n",
    "melted_df = pd.melt(df, id_vars=['Area_Part'], var_name='Date_Quarter', value_name='Price_Index')\n",
    "print(melted_df.head())"
   ]
  },
  {
   "cell_type": "code",
   "execution_count": 67,
   "id": "bb0161ad",
   "metadata": {},
   "outputs": [
    {
     "name": "stdout",
     "output_type": "stream",
     "text": [
      "          Area_Part Date_Quarter  Price_Index\n",
      "0  Calgary, Alberta      Q1 2017        100.9\n",
      "1  Calgary, Alberta      Q1 2018         95.9\n",
      "2  Calgary, Alberta      Q1 2019         86.0\n",
      "3  Calgary, Alberta      Q1 2020         78.0\n",
      "4  Calgary, Alberta      Q1 2021         78.7\n"
     ]
    }
   ],
   "source": [
    "#Sort table\n",
    "sorted_df = melted_df.sort_values(by=[\"Area_Part\", \"Date_Quarter\"]).reset_index(drop=True)\n",
    "print(sorted_df.head())"
   ]
  },
  {
   "cell_type": "code",
   "execution_count": 68,
   "id": "8a507801",
   "metadata": {},
   "outputs": [],
   "source": [
    "#Export csv\n",
    "sorted_df.to_csv(\"dataset_condominium_price_index.csv\", index=False, encoding=\"ansi\")"
   ]
  }
 ],
 "metadata": {
  "kernelspec": {
   "display_name": "Python 3 (ipykernel)",
   "language": "python",
   "name": "python3"
  },
  "language_info": {
   "codemirror_mode": {
    "name": "ipython",
    "version": 3
   },
   "file_extension": ".py",
   "mimetype": "text/x-python",
   "name": "python",
   "nbconvert_exporter": "python",
   "pygments_lexer": "ipython3",
   "version": "3.10.9"
  }
 },
 "nbformat": 4,
 "nbformat_minor": 5
}
